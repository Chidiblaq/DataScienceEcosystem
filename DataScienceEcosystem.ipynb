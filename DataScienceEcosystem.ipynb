{
 "cells": [
  {
   "cell_type": "markdown",
   "id": "c9ab14f6",
   "metadata": {},
   "source": [
    "# Data Science Tools and Ecosystem"
   ]
  },
  {
   "cell_type": "markdown",
   "id": "d4d17de3",
   "metadata": {},
   "source": [
    "In this notebook, Data Science Tools and Ecosystem are summarized."
   ]
  },
  {
   "cell_type": "markdown",
   "id": "07c09247",
   "metadata": {},
   "source": [
    "#### Objectives:\n",
    "* List popular languages for Data Science\n",
    "* List commonly used libraries by Data Scientist\n",
    "* Data Science Tools\n",
    "* Arithmetic expressions"
   ]
  },
  {
   "cell_type": "markdown",
   "id": "2c547ac6",
   "metadata": {},
   "source": [
    "Some of the popular languages that Data Scientists use are:\n",
    "1. Python\n",
    "1. R\n",
    "1. Scala\n",
    "1. Javascript\n",
    "1. Julia"
   ]
  },
  {
   "cell_type": "markdown",
   "id": "7c6664ca",
   "metadata": {},
   "source": [
    "Some of the commonly used libraries used by Data Scientists include:\n",
    "\n",
    "1. Pandas\n",
    "1. Numpy\n",
    "1. Matplotlib\n",
    "1. Seaborn\n",
    "1. Scikit-Learn\n",
    "1. ggplot"
   ]
  },
  {
   "cell_type": "markdown",
   "id": "ba2a38ed",
   "metadata": {},
   "source": [
    "| Data Science Tools |\n",
    "| :--- |\n",
    "| Jupyter Notebook |\n",
    "| TensorFlow |\n",
    "| Apache Hadoop |\n",
    "| Rstudio |"
   ]
  },
  {
   "cell_type": "markdown",
   "id": "80fddc91",
   "metadata": {},
   "source": [
    "### Below are a few examples of evaluating arithmetic expressions in Python"
   ]
  },
  {
   "cell_type": "code",
   "execution_count": 1,
   "id": "690e8274",
   "metadata": {},
   "outputs": [
    {
     "data": {
      "text/plain": [
       "17"
      ]
     },
     "execution_count": 1,
     "metadata": {},
     "output_type": "execute_result"
    }
   ],
   "source": [
    "# This a simple arithmetic expression to mutiply then add integers\n",
    "(3*4)+5"
   ]
  },
  {
   "cell_type": "code",
   "execution_count": 3,
   "id": "165e8bf1",
   "metadata": {},
   "outputs": [
    {
     "data": {
      "text/plain": [
       "'3.3333333333333335 hours'"
      ]
     },
     "execution_count": 3,
     "metadata": {},
     "output_type": "execute_result"
    }
   ],
   "source": [
    "# This will convert 200 minutes to hours by diving by 60\n",
    "result = 200/60\n",
    "\"{} hours\".format(result)"
   ]
  },
  {
   "cell_type": "markdown",
   "id": "746c3cee",
   "metadata": {},
   "source": [
    "## Author\n",
    "Chidi Chukwumezie"
   ]
  },
  {
   "cell_type": "code",
   "execution_count": null,
   "id": "450af2fd",
   "metadata": {},
   "outputs": [],
   "source": []
  }
 ],
 "metadata": {
  "kernelspec": {
   "display_name": "Python 3 (ipykernel)",
   "language": "python",
   "name": "python3"
  },
  "language_info": {
   "codemirror_mode": {
    "name": "ipython",
    "version": 3
   },
   "file_extension": ".py",
   "mimetype": "text/x-python",
   "name": "python",
   "nbconvert_exporter": "python",
   "pygments_lexer": "ipython3",
   "version": "3.9.7"
  }
 },
 "nbformat": 4,
 "nbformat_minor": 5
}
